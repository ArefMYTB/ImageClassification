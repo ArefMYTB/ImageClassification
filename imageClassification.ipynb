{
  "cells":[
    {
      "cell_type":"markdown",
      "source":[
        "# Packages"
      ],
      "attachments":{
        
      },
      "metadata":{
        
      }
    },
    {
      "cell_type":"code",
      "source":[
        "import numpy as np\n",
        "import matplotlib.pyplot as plt\n",
        "\n",
        "from Assets.Loading_Datasets import *"
      ],
      "execution_count":1,
      "outputs":[
        
      ],
      "metadata":{
        
      }
    },
    {
      "cell_type":"markdown",
      "source":[
        "# Datasets\n",
        "\n",
        "Arguments:\n",
        "\n",
        "    train_label:    It declares which fruit this data belongs\n",
        "    train_value:    It has value of every pixle (in this case we extracted the values)\n",
        "\n",
        "**Dimensions**:\n",
        "\n",
        "            train_set_features:     (1962, 102)\n",
        "            train_set_labels:       (1962, 1)\n",
        "            train_label:            (1962, 4)\n",
        "            train_value1:           (102,200)\n",
        "            train_lable1:           (200, 4)\n",
        "            train_value2:           (102,1762)\n",
        "            train_lable2:           (1762, 4)"
      ],
      "attachments":{
        
      },
      "metadata":{
        
      }
    },
    {
      "cell_type":"code",
      "source":[
        "shuffle = np.random.permutation(len(train_set_features))\n",
        "train_set_feature = train_set_features[shuffle]\n",
        "train_set_label = train_set_labels[shuffle]\n",
        "\n",
        "m, n = train_set_feature.shape\n",
        "sample_num = 200\n",
        "\n",
        "# labels\n",
        "train_label = np.zeros((m,4))\n",
        "for i in range(len(train_set_label)):\n",
        "    train_label[i][int(train_set_label[i])] = 1 \n",
        "\n",
        "# sample data\n",
        "train_value1 = train_set_feature[0:sample_num].T\n",
        "train_value1 = np.reshape(train_value1, (n, sample_num))\n",
        "assert(train_value1.shape == (n,sample_num))\n",
        "\n",
        "# sample labels\n",
        "train_label1 = train_label[0:sample_num]\n",
        "train_label1 = np.reshape(train_label1, (sample_num, 4))\n",
        "assert(train_label1.shape == (sample_num, 4))\n",
        "\n",
        "\n",
        "# remain samples data\n",
        "train_value2 = train_set_feature[sample_num:m].T\n",
        "assert(train_value2.shape == (n,m-sample_num))\n",
        "\n",
        "# remain samples labels\n",
        "train_label2 = train_label[sample_num:m]\n",
        "train_label2 = np.reshape(train_label2, (m-sample_num, 4))\n",
        "assert(train_label2.shape == (m-sample_num, 4))\n"
      ],
      "execution_count":176,
      "outputs":[
        
      ],
      "metadata":{
        
      }
    },
    {
      "cell_type":"markdown",
      "source":[
        "# Initialization\n",
        "layer_dims: python array (list) containing the dimensions of each layer in our network\n",
        "\n",
        "parameters: python dictionary containing our parameters \"W1\", \"b1\", ..., \"WL\", \"bL\":\n",
        "\n",
        "                    Wl: weight matrix \n",
        "                    bl: bias vector\n",
        "\n",
        "\n",
        "procedure:\n",
        "\n",
        "we assign a random number for every weight and a 0 for all biases \n",
        "\n",
        "**Dimensions**:\n",
        "\n",
        "            Wl: (layer_dims[l], layer_dims[l-1])\n",
        "            bl: (layer_dims[l], 1)"
      ],
      "attachments":{
        
      },
      "metadata":{
        
      }
    },
    {
      "cell_type":"code",
      "source":[
        "def initialize_parameters_deep(layer_dims):\n",
        "   \n",
        "    # np.random.seed(1)\n",
        "    parameters = {}\n",
        "    L = len(layer_dims)            # number of layers in the network\n",
        "\n",
        "    for l in range(1, L):\n",
        "        \n",
        "        parameters['W' + str(l)] = np.random.randn(layer_dims[l],layer_dims[l-1]) * 0.01\n",
        "        parameters['b' + str(l)] = np.zeros((layer_dims[l],1))\n",
        "        \n",
        "\n",
        "        assert(parameters['W' + str(l)].shape == (layer_dims[l], layer_dims[l-1]))\n",
        "        assert(parameters['b' + str(l)].shape == (layer_dims[l], 1))\n",
        "\n",
        "    return parameters"
      ],
      "execution_count":3,
      "outputs":[
        
      ],
      "metadata":{
        
      }
    },
    {
      "cell_type":"code",
      "source":[
        "# p = initialize_parameters_deep([5, 4, 3])\n",
        "# print(\"W1 = \" + str(p[\"W1\"]))\n",
        "# print(\"b1 = \" + str(p[\"b1\"]))\n",
        "# print(\"W2 = \" + str(p[\"W2\"]))\n",
        "# print(\"b2 = \" + str(p[\"b2\"]))"
      ],
      "execution_count":45,
      "outputs":[
        
      ],
      "metadata":{
        
      }
    },
    {
      "cell_type":"markdown",
      "source":[
        "# Network Shape\n",
        "\n",
        "Our network will have 4 layers including output layer.\n",
        "\n",
        "In the input layer, we have 102 items followed by 2 hidden layers with 150 and 60 items.\n",
        "\n",
        "Also, in the output layer, we have for items which are: apple, lemon, mango and raspberry, respectively."
      ],
      "attachments":{
        
      },
      "metadata":{
        
      }
    },
    {
      "cell_type":"markdown",
      "source":[
        "# Activation function\n",
        "\n",
        "**Sigmoid:**\n",
        "    \n",
        "    Arguments:\n",
        "    Z:       numpy array of any shape\n",
        "    \n",
        "    Returns:\n",
        "    A:       output of sigmoid(z), same shape as Z\n",
        "    cache:   returns Z as well, useful during backpropagation\n",
        "\n",
        "**Relu:**\n",
        "\n",
        "    Arguments:\n",
        "    Z:       Output of the linear layer, of any shape\n",
        "    Returns:\n",
        "    A:       Post-activation parameter, of the same shape as Z\n",
        "    cache:   storing \"A\" for computing the backward pass efficiently\n",
        "\n",
        "**Dimentions**:\n",
        "                \n",
        "                Z(l): (layer_dims(l), sample_num)\n",
        "                A(l): (layer_dims(l), sample_num)"
      ],
      "attachments":{
        
      },
      "metadata":{
        
      }
    },
    {
      "cell_type":"code",
      "source":[
        "def sigmoid(Z):\n",
        "    \n",
        "    A = 1\/(1+np.exp(-Z))\n",
        "    cache = Z\n",
        "\n",
        "    assert(A.shape == Z.shape)\n",
        "    \n",
        "    return A, cache"
      ],
      "execution_count":181,
      "outputs":[
        
      ],
      "metadata":{
        
      }
    },
    {
      "cell_type":"code",
      "source":[
        "def relu(Z):\n",
        "    \n",
        "    A = np.maximum(0,Z)\n",
        "    \n",
        "    assert(A.shape == Z.shape)\n",
        "    \n",
        "    cache = Z \n",
        "    return A, cache"
      ],
      "execution_count":5,
      "outputs":[
        
      ],
      "metadata":{
        
      }
    },
    {
      "cell_type":"markdown",
      "source":[
        "# Forward-Propagation\n",
        "\n",
        "Implement the **linear part** of a layer's forward propagation.\n",
        "\n",
        "    Arguments:\n",
        "\n",
        "    A:      activations from previous layer (or input data): (size of previous layer, number of examples)\n",
        "    W:      weights matrix: numpy array of shape (size of current layer, size of previous layer)\n",
        "    b:      bias vector, numpy array of shape (size of the current layer, 1)\n",
        "\n",
        "    Returns:\n",
        "\n",
        "    Z:      the input of the activation function, also called pre-activation parameter.\n",
        "    cache:  storing \"A\", \"W\" and \"b\" for computing the backward pass efficiently.\n",
        "\n",
        "    **Dimensions**:\n",
        "\n",
        "                A:  (layer_dims(l-1), sample_num)\n",
        "                W:  (layer_dims(l), layer_dims(l-1))\n",
        "                b:  (layer_dims(l), 1)\n",
        "                Z:  (layer_dims(l), sample_num)"
      ],
      "attachments":{
        
      },
      "metadata":{
        
      }
    },
    {
      "cell_type":"code",
      "source":[
        "def linear_forward(A, W, b):\n",
        "    \n",
        "    Z = np.dot(W,A) + b\n",
        "    \n",
        "    assert(Z.shape == (W.shape[0], A.shape[1]))\n",
        "    cache = (A, W, b)\n",
        "    \n",
        "    return Z, cache"
      ],
      "execution_count":6,
      "outputs":[
        
      ],
      "metadata":{
        
      }
    },
    {
      "cell_type":"code",
      "source":[
        "# A = np.random.randn(3,2)\n",
        "# W = np.random.randn(1,3)\n",
        "# b = np.random.randn(1,1)\n",
        "# Z, linear_cache = linear_forward(A, W, b)\n",
        "# print(\"Z = \" + str(Z))"
      ],
      "execution_count":44,
      "outputs":[
        
      ],
      "metadata":{
        
      }
    },
    {
      "cell_type":"markdown",
      "source":[
        "# Activate the linear part of Forward-Propagation\n",
        "\n",
        "Implement the forward propagation for the LINEAR->ACTIVATION part\n",
        "\n",
        "    Arguments:\n",
        "\n",
        "    A_prev:     activations from previous layer (or input data): (size of previous layer, number of examples)\n",
        "    W:          weights matrix: numpy array of shape (size of current layer, size of previous layer)\n",
        "    b:          bias vector, numpy array of shape (size of the current layer, 1)\n",
        "    activation: the activation to be used in this layer, stored as a text string: \"sigmoid\" or \"relu\"\n",
        "\n",
        "    Returns:\n",
        "\n",
        "    A:          the output of the activation function, also called the post-activation value \n",
        "    cache:      storing \"linear_cache\" and \"activation_cache\" for computing the backward pass efficiently"
      ],
      "attachments":{
        
      },
      "metadata":{
        
      }
    },
    {
      "cell_type":"code",
      "source":[
        "def linear_activation_forward(A_prev, W, b, activation):\n",
        "    \n",
        "    if activation == \"sigmoid\":\n",
        "    \n",
        "        Z, linear_cache = linear_forward(A_prev, W, b) \n",
        "        A, activation_cache = sigmoid(Z) \n",
        "    \n",
        "    elif activation == \"relu\":\n",
        "    \n",
        "        Z, linear_cache = linear_forward(A_prev, W, b)\n",
        "        A, activation_cache = relu(Z) \n",
        "    \n",
        "    assert (A.shape == (W.shape[0], A_prev.shape[1]))\n",
        "    \n",
        "    cache = (linear_cache, activation_cache)\n",
        "\n",
        "    return A, cache"
      ],
      "execution_count":47,
      "outputs":[
        
      ],
      "metadata":{
        
      }
    },
    {
      "cell_type":"code",
      "source":[
        "# A_prev = np.random.randn(3,2)\n",
        "# W = np.random.randn(1,3)\n",
        "# b = np.random.randn(1,1)\n",
        "\n",
        "# A, linear_activation_cache = linear_activation_forward(A_prev, W, b, activation = \"sigmoid\")\n",
        "# print(\"With sigmoid: A = \" + str(A))\n",
        "\n",
        "# A, linear_activation_cache = linear_activation_forward(A_prev, W, b, activation = \"relu\")\n",
        "# print(\"With ReLU: A = \" + str(A))"
      ],
      "execution_count":51,
      "outputs":[
        
      ],
      "metadata":{
        
      }
    },
    {
      "cell_type":"markdown",
      "source":[
        "# Forward-Propagation for all layers\n",
        "    \n",
        "**Arguments:**\n",
        "\n",
        "    X:           data, numpy array of shape (input size, number of examples)\n",
        "    parameters:  output of initialize_parameters_deep()\n",
        "    \n",
        "**Returns:**\n",
        "\n",
        "    A:          last post-activation value\n",
        "    caches:      list of caches containing:\n",
        "                    every cache of activating linear part of forward-propagation (there are L-1 of them, indexed from 0 to L-1)\n",
        "\n",
        "Dimensions:\n",
        "\n",
        "            A_prev:  (layer_dims(l-1), sample_num)\n",
        "            A:  (layer_dims(l), sample_num)"
      ],
      "attachments":{
        
      },
      "metadata":{
        
      }
    },
    {
      "cell_type":"code",
      "source":[
        "def L_model_forward(X, parameters):\n",
        "\n",
        "    caches = []\n",
        "    A = X\n",
        "    L = len(parameters) \/\/ 2                  # number of layers in the neural network\n",
        "    for l in range(1, L):\n",
        "        A_prev = A \n",
        "        A, cache = linear_activation_forward(A_prev, parameters['W' + str(l)], parameters['b' + str(l)], \"sigmoid\")\n",
        "        caches.append(cache)\n",
        "    \n",
        "    Al, cache = linear_activation_forward(A, parameters['W' + str(L)], parameters['b' + str(L)], activation = \"sigmoid\")\n",
        "    caches.append(cache)\n",
        "    \n",
        "    assert(Al.shape == (4,X.shape[1])) \n",
        "    # --------------------------------------\n",
        "    return Al, caches"
      ],
      "execution_count":207,
      "outputs":[
        
      ],
      "metadata":{
        
      }
    },
    {
      "cell_type":"code",
      "source":[
        "# X = np.random.randn(5,4)\n",
        "# W1 = np.random.randn(4,5)\n",
        "# b1 = np.random.randn(4,1)\n",
        "# W2 = np.random.randn(3,4)\n",
        "# b2 = np.random.randn(3,1)\n",
        "# W3 = np.random.randn(1,3)\n",
        "# b3 = np.random.randn(1,1)\n",
        "\n",
        "# p = {\"W1\": W1,\n",
        "#      \"b1\": b1,\n",
        "#      \"W2\": W2,\n",
        "#      \"b2\": b2,\n",
        "#      \"W3\": W3,\n",
        "#      \"b3\": b3}\n",
        "# AL, caches = L_model_forward(X, p)\n",
        "# print(\"AL = \" + str(AL))\n",
        "# print(\"Length of caches list = \" + str(len(caches)))"
      ],
      "execution_count":56,
      "outputs":[
        
      ],
      "metadata":{
        
      }
    },
    {
      "cell_type":"markdown",
      "source":[
        "# Cost function\n",
        "\n",
        "\n",
        "We can use 2 ways to calculate the cost of network:\n",
        "\n",
        "                                                SSE\n",
        "                                                CE"
      ],
      "attachments":{
        
      },
      "metadata":{
        
      }
    },
    {
      "cell_type":"markdown",
      "source":[
        "**SSE**"
      ],
      "attachments":{
        
      },
      "metadata":{
        
      }
    },
    {
      "cell_type":"code",
      "source":[
        "def compute_SSE(a, g):\n",
        "   \n",
        "    sse = np.square(a-g)\n",
        "    sse = np.sum(sse)\/len(g)\n",
        "    return(sse)"
      ],
      "execution_count":9,
      "outputs":[
        
      ],
      "metadata":{
        
      }
    },
    {
      "cell_type":"code",
      "source":[
        "# a = np.array([[1, 1], [1,2]])\n",
        "# g = np.array([[1, 0], [1,2]])\n",
        "\n",
        "# compute_SSE(a,g)"
      ],
      "execution_count":47,
      "outputs":[
        
      ],
      "metadata":{
        
      }
    },
    {
      "cell_type":"markdown",
      "source":[
        "**Cross**-**Entropy**\n",
        "\n",
        "Arguments:\n",
        "\n",
        "        AL:     probability vector corresponding to our label predictions, shape (1, number of examples)\n",
        "        Y:      true \"label\" vector\n",
        "\n",
        "Returns:\n",
        "\n",
        "        cost:   cross-entropy cost\n",
        "\n",
        "Dimensions:\n",
        "\n",
        "        cost:  (1)\n",
        "        Y:     (layer_dims(L), sample_num)  -> L is number of layers"
      ],
      "attachments":{
        
      },
      "metadata":{
        
      }
    },
    {
      "cell_type":"code",
      "source":[
        "def compute_cost(AL, Y):\n",
        "\n",
        "    m = Y.shape[1]\n",
        "\n",
        "    # Compute loss from aL and y.\n",
        "    cost = (-1\/m) * (np.dot(Y, np.log(AL).T) + np.dot((1-Y), np.log(1-AL).T))\n",
        "    cost = cost.sum()\n",
        "    assert(cost.shape == ())\n",
        "    \n",
        "    return cost"
      ],
      "execution_count":61,
      "outputs":[
        
      ],
      "metadata":{
        
      }
    },
    {
      "cell_type":"code",
      "source":[
        "\n",
        "# Y = np.asarray([[1, 1, 0]])\n",
        "# AL = np.array([[.8,.9,0.4]])\n",
        "# print(\"cost = \" + str(compute_cost(AL, Y)))"
      ],
      "execution_count":64,
      "outputs":[
        
      ],
      "metadata":{
        
      }
    },
    {
      "cell_type":"markdown",
      "source":[
        "# Backward-Propagation\n",
        "\n",
        "We need to calculate Gradient of the cost respect to the parameters. then times it to a learning factor and finally upgrade the parameters.\n",
        "\n",
        "We will use 2 ways:\n",
        "                    one way is that we use some loops to iterate all over the network\n",
        "                    another way is that we use matrix operations "
      ],
      "attachments":{
        
      },
      "metadata":{
        
      }
    },
    {
      "cell_type":"markdown",
      "source":[
        "# Using Loops"
      ],
      "attachments":{
        
      },
      "metadata":{
        
      }
    },
    {
      "cell_type":"code",
      "source":[
        "def calculate_gradient(value, lable):\n",
        "    for i in range(value.size):\n",
        "        A, caches = L_model_forward(value[i], parameters)\n",
        "        sse = compute_SSE(A.T, lable[i])"
      ],
      "execution_count":14,
      "outputs":[
        
      ],
      "metadata":{
        
      }
    },
    {
      "cell_type":"markdown",
      "source":[
        "# Vectorization\n",
        "\n",
        "Using matrix operations"
      ],
      "attachments":{
        
      },
      "metadata":{
        
      }
    },
    {
      "cell_type":"markdown",
      "source":[
        "# Activation function Gradient\n",
        "\n",
        "Implement the backward propagation for a single **SIGMOID** unit.\n",
        "\n",
        "    Arguments:\n",
        "\n",
        "        dA:      post-activation gradient, of any shape\n",
        "        cache:   Z where we store for computing backward propagation efficiently\n",
        "\n",
        "    Returns:\n",
        "    \n",
        "        dZ:      Gradient of the cost with respect to Z\n",
        "\n",
        "    Dimensions:\n",
        "\n",
        "                dA:     (layer_dims(l), sample_num)\n",
        "                Z:      (layer_dims(l-1), sample_num)\n",
        "                dZ:     (layer_dims(l-1), sample_num)\n",
        "\n",
        "                here A in layer_dims(l) and Z in layer_dims(l-1) have equal dimentions."
      ],
      "attachments":{
        
      },
      "metadata":{
        
      }
    },
    {
      "cell_type":"code",
      "source":[
        "def sigmoid_backward(dA, cache): # ---------------------------remove da---------------------------------\n",
        "    \n",
        "    Z = cache\n",
        "    s = 1\/(1+np.exp(-Z))\n",
        "    dZ = dA * s * (1-s)\n",
        "    \n",
        "    assert (dZ.shape == Z.shape)\n",
        "    \n",
        "    return dZ"
      ],
      "execution_count":182,
      "outputs":[
        
      ],
      "metadata":{
        
      }
    },
    {
      "cell_type":"code",
      "source":[
        "def relu_backward(dA, cache):\n",
        "    \"\"\"\n",
        "    Implement the backward propagation for a single RELU unit.\n",
        "    Arguments:\n",
        "    dA -- post-activation gradient, of any shape\n",
        "    cache -- 'Z' where we store for computing backward propagation efficiently\n",
        "    Returns:\n",
        "    dZ -- Gradient of the cost with respect to Z\n",
        "    \"\"\"\n",
        "    \n",
        "    Z = cache\n",
        "    dZ = np.array(dA, copy=True) # just converting dz to a correct object.\n",
        "    \n",
        "    # When z <= 0, you should set dz to 0 as well. \n",
        "    dZ[Z <= 0] = 0\n",
        "    \n",
        "    assert (dZ.shape == Z.shape)\n",
        "    \n",
        "    return dZ"
      ],
      "execution_count":194,
      "outputs":[
        
      ],
      "metadata":{
        
      }
    },
    {
      "cell_type":"markdown",
      "source":[
        "# Gradient of parameters for a singl layer\n",
        "\n",
        "Here **cache** is \"linear_cache\" containing (A_prev, W, b) coming from the forward propagation in the current layer\n",
        "   \n",
        "\n",
        "Implement the linear portion of backward propagation for a single layer (layer l)\n",
        "\n",
        "    Arguments:\n",
        "    dZ -- Gradient of the cost with respect to the linear output (of current layer l)\n",
        "    cache -- tuple of values (A_prev, W, b) coming from the forward propagation in the current layer\n",
        "\n",
        "    Returns:\n",
        "    dA_prev -- Gradient of the cost with respect to the activation (of the previous layer l-1), same shape as A_prev\n",
        "    dW -- Gradient of the cost with respect to W (current layer l), same shape as W\n",
        "    db -- Gradient of the cost with respect to b (current layer l), same shape as b\n",
        "\n",
        "Dimensions:\n",
        "\n",
        "            A_prev:      (layer_dims(l-1), sample_num)\n",
        "            W:           (layer_dims(l), layer_dims(l-1))\n",
        "            b:           (layer_dims(l), 1)\n",
        "            dz:          (layer_dims(l), sample_num)\n",
        "            dA_prev:     (layer_dims(l-1), sample_num)\n",
        "            dW:          (layer_dims(l), layer_dims(l-1))\n",
        "            db:          (layer_dims(l), 1)"
      ],
      "attachments":{
        
      },
      "metadata":{
        
      }
    },
    {
      "cell_type":"code",
      "source":[
        "def linear_backward(dZ, cache):\n",
        "   \n",
        "    A_prev, W, b = cache\n",
        "    m = A_prev.shape[1]\n",
        "\n",
        "    dW = (1\/m) * np.dot(dZ, A_prev.T)\n",
        "    db = (1\/m) * np.sum(dZ, axis=1, keepdims=True)\n",
        "    dA_prev = np.dot(W.T,dZ)\n",
        "    \n",
        "    assert (dA_prev.shape == A_prev.shape)\n",
        "    assert (dW.shape == W.shape)\n",
        "    assert (db.shape == b.shape)\n",
        "    \n",
        "    return dA_prev, dW, db"
      ],
      "execution_count":68,
      "outputs":[
        
      ],
      "metadata":{
        
      }
    },
    {
      "cell_type":"code",
      "source":[
        "# dZ = np.random.randn(3,4)\n",
        "# A = np.random.randn(5,4)\n",
        "# W = np.random.randn(3,5)\n",
        "# b = np.random.randn(3,1)\n",
        "# linear_cache = (A, W, b)\n",
        "# dA_prev, dW, db = linear_backward(dZ, linear_cache)\n",
        "# print (\"dA_prev = \"+ str(dA_prev))\n",
        "# print (\"dW = \" + str(dW))\n",
        "# print (\"db = \" + str(db))"
      ],
      "execution_count":71,
      "outputs":[
        
      ],
      "metadata":{
        
      }
    },
    {
      "cell_type":"code",
      "source":[
        "def linear_activation_backward(dA, cache, activation):\n",
        "    \n",
        "    linear_cache, activation_cache = cache\n",
        "    \n",
        "    if activation == \"relu\":\n",
        "        dZ = relu_backward(dA, activation_cache)\n",
        "        \n",
        "    elif activation == \"sigmoid\":\n",
        "        dZ = sigmoid_backward(dA, activation_cache)\n",
        "    \n",
        "    dA_prev, dW, db = linear_backward(dZ, linear_cache)\n",
        "    \n",
        "    return dA_prev, dW, db"
      ],
      "execution_count":72,
      "outputs":[
        
      ],
      "metadata":{
        
      }
    },
    {
      "cell_type":"code",
      "source":[
        "# dAL = np.random.randn(1,2)\n",
        "# A = np.random.randn(3,2)\n",
        "# W = np.random.randn(1,3)\n",
        "# b = np.random.randn(1,1)\n",
        "# Z = np.random.randn(1,2)\n",
        "# linear_cache = (A, W, b)\n",
        "# activation_cache = Z\n",
        "# linear_activation_cache = (linear_cache, activation_cache)\n",
        "# dA_prev, dW, db = linear_activation_backward(dAL, linear_activation_cache, activation = \"sigmoid\")\n",
        "# print (\"sigmoid:\")\n",
        "# print (\"dA_prev = \"+ str(dA_prev))\n",
        "# print (\"dW = \" + str(dW))\n",
        "# print (\"db = \" + str(db) + \"\\n\")"
      ],
      "execution_count":83,
      "outputs":[
        
      ],
      "metadata":{
        
      }
    },
    {
      "cell_type":"markdown",
      "source":[
        "# Obtain Gradient\n",
        "\n",
        "    Arguments:\n",
        "    AL: probability vector, output of the forward propagation (L_model_forward())\n",
        "    Y: true \"label\" vector \n",
        "    caches: list of caches containing:\n",
        "                every cache of linear_activation_forward() with \"relu\" (it's caches[l], for l in range(L-1) i.e l = 0...L-2)\n",
        "                the cache of linear_activation_forward() with \"sigmoid\" (it's caches[L-1])\n",
        "    \n",
        "    Returns:\n",
        "    grads: A dictionary with the gradients\n",
        "             grads[\"dA\" + str(l)] = ... \n",
        "             grads[\"dW\" + str(l)] = ...\n",
        "             grads[\"db\" + str(l)] = ... "
      ],
      "attachments":{
        
      },
      "metadata":{
        
      }
    },
    {
      "cell_type":"code",
      "source":[
        "def L_model_backward(AL, Y, caches): #----------------------------------------------------------------------------\n",
        "   \n",
        "    grads = {}\n",
        "    L = len(caches) # the number of layers\n",
        "    m = AL.shape[1]\n",
        "    Y = Y.reshape(AL.shape) # after this line, Y is the same shape as AL\n",
        "    \n",
        "    # Initializing the backpropagation\n",
        "    # dAL = - (np.divide(Y, AL) - np.divide(1 - Y, 1 - AL)) #------------------------------------------------------------\n",
        "    cost_drive = 2 * (AL - Y)\n",
        "    current_cache = caches[L-1] # Last Layer\n",
        "    grads[\"dA\" + str(L-1)], grads[\"dW\" + str(L)], grads[\"db\" + str(L)] = linear_activation_backward(cost_drive, current_cache, \"sigmoid\")\n",
        "    \n",
        "    # Loop from l=L-2 to l=0\n",
        "    for l in reversed(range(L-1)):\n",
        "        current_cache = caches[l]\n",
        "        grads[\"dA\" + str(l)], grads[\"dW\" + str(l+1)], grads[\"db\" + str(l+1)] = linear_activation_backward(grads[\"dA\" + str(l+1)], current_cache, \"sigmoid\")\n",
        "\n",
        "    return grads"
      ],
      "execution_count":215,
      "outputs":[
        
      ],
      "metadata":{
        
      }
    },
    {
      "cell_type":"code",
      "source":[
        "# AL = np.random.randn(1, 2)\n",
        "# Y = np.array([[1, 0]])\n",
        "\n",
        "# A1 = np.random.randn(4,2)\n",
        "# W1 = np.random.randn(3,4)\n",
        "# b1 = np.random.randn(3,1)\n",
        "# Z1 = np.random.randn(3,2)\n",
        "# linear_cache_activation_1 = ((A1, W1, b1), Z1)\n",
        "\n",
        "# A2 = np.random.randn(3,2)\n",
        "# W2 = np.random.randn(1,3)\n",
        "# b2 = np.random.randn(1,1)\n",
        "# Z2 = np.random.randn(1,2)\n",
        "# linear_cache_activation_2 = ((A2, W2, b2), Z2)\n",
        "\n",
        "# caches = (linear_cache_activation_1, linear_cache_activation_2)\n",
        "# grads = L_model_backward(AL, Y, caches)\n",
        "# print (\"dW1 = \"+ str(grads[\"dW1\"]))\n",
        "# print (\"db1 = \"+ str(grads[\"db1\"]))\n",
        "# print (\"dA1 = \"+ str(grads[\"dA1\"]))  "
      ],
      "execution_count":89,
      "outputs":[
        
      ],
      "metadata":{
        
      }
    },
    {
      "cell_type":"markdown",
      "source":[
        "# Update Parameters\n",
        "\n",
        "Update parameters using gradient descent\n",
        "    \n",
        "    Arguments:\n",
        "    parameters -- python dictionary containing your parameters \n",
        "    grads -- python dictionary containing your gradients, output of L_model_backward\n",
        "    \n",
        "    Returns:\n",
        "    parameters -- python dictionary containing your updated parameters \n",
        "                  parameters[\"W\" + str(l)] = ... \n",
        "                  parameters[\"b\" + str(l)] = ..."
      ],
      "attachments":{
        
      },
      "metadata":{
        
      }
    },
    {
      "cell_type":"code",
      "source":[
        "def update_parameters(parameters, grads, learning_rate):\n",
        "    param = {}\n",
        "    L = len(parameters) \/\/ 2 # number of layers in the neural network\n",
        "    \n",
        "    # Update rule for each parameter. Use a for loop.\n",
        "    for l in range(L):\n",
        "        parameters[\"W\" + str(l+1)] = parameters[\"W\" + str(l+1)] - learning_rate * grads[\"dW\" + str(l+1)]\n",
        "        parameters[\"b\" + str(l+1)] = parameters[\"b\" + str(l+1)] - learning_rate * grads[\"db\" + str(l+1)]\n",
        "    return parameters"
      ],
      "execution_count":15,
      "outputs":[
        
      ],
      "metadata":{
        
      }
    },
    {
      "cell_type":"code",
      "source":[
        "# W1 = np.random.randn(3,4)\n",
        "# b1 = np.random.randn(3,1)\n",
        "# W2 = np.random.randn(1,3)\n",
        "# b2 = np.random.randn(1,1)\n",
        "# p = {\"W1\": W1,\n",
        "#                 \"b1\": b1,\n",
        "#                 \"W2\": W2,\n",
        "#                 \"b2\": b2}\n",
        "# np.random.seed(3)\n",
        "# dW1 = np.random.randn(3,4)\n",
        "# db1 = np.random.randn(3,1)\n",
        "# dW2 = np.random.randn(1,3)\n",
        "# db2 = np.random.randn(1,1)\n",
        "# grads = {\"dW1\": dW1,\n",
        "#             \"db1\": db1,\n",
        "#             \"dW2\": dW2,\n",
        "#             \"db2\": db2}\n",
        "\n",
        "# print (\"W1 = \"+ str(p[\"W1\"]))\n",
        "\n",
        "# p = update_parameters(p, grads, 0.1)\n",
        "\n",
        "# print (\"W1 = \"+ str(p[\"W1\"]))"
      ],
      "execution_count":92,
      "outputs":[
        
      ],
      "metadata":{
        
      }
    },
    {
      "cell_type":"markdown",
      "source":[
        "# Prediction"
      ],
      "attachments":{
        
      },
      "metadata":{
        
      }
    },
    {
      "cell_type":"code",
      "source":[
        "def get_predictions(A, parameters):\n",
        "\n",
        "    m = A.shape[1]\n",
        "    p = np.zeros((1,m))\n",
        "    \n",
        "    # Forward propagation\n",
        "    probas, caches = L_model_forward(A, parameters)\n",
        "    probas = np.reshape(probas, [sample_num,4])\n",
        "    # convert probas to 0\/1 predictions\n",
        "    p = np.argmax(probas,1)\n",
        "    # for i in range(train_label.shape[0]):\n",
        "    #     print(\"label: \", train_label[i])\n",
        "    # print(\"p: \", p)\n",
        "    \n",
        "    print(\"Accuracy: \"  + str(np.sum((p == train_set_labels[:sample_num])\/m)))\n",
        "        \n",
        "    return p\n",
        "\n",
        "\n",
        "    # return np.argmax(A, 0)"
      ],
      "execution_count":168,
      "outputs":[
        
      ],
      "metadata":{
        
      }
    },
    {
      "cell_type":"markdown",
      "source":[
        "# Implement a L-layer neural network\n",
        "\n",
        " Arguments:\n",
        "\n",
        "    X -- data, numpy array of shape (num_px * num_px * 3, number of examples)\n",
        "    Y -- true \"label\" vector (containing 0 if cat, 1 if non-cat), of shape (1, number of examples)\n",
        "    layers_dims -- list containing the input size and each layer size, of length (number of layers + 1).\n",
        "    learning_rate -- learning rate of the gradient descent update rule\n",
        "    num_iterations -- number of iterations of the optimization loop\n",
        "    print_cost -- if True, it prints the cost every 100 steps\n",
        "    \n",
        "    Returns:\n",
        "    \n",
        "    parameters -- parameters learnt by the model. They can then be used to predict."
      ],
      "attachments":{
        
      },
      "metadata":{
        
      }
    },
    {
      "cell_type":"code",
      "source":[
        "def L_layer_model(data, label, layers_dims, learning_rate, num_iterations, print_cost):\n",
        "    \n",
        "    np.random.seed(1)\n",
        "    costs = []                         # keep track of cost\n",
        "    \n",
        "    # Parameters initialization. \n",
        "    parameters = initialize_parameters_deep(layers_dims)\n",
        "\n",
        "    # Loop (gradient descent)\n",
        "    for i in range(0, num_iterations):\n",
        "    \n",
        "        \n",
        "        # shuffle = np.random.permutation(data.shape[1])\n",
        "        # data = data.T[shuffle]\n",
        "        # label = label[shuffle]\n",
        "\n",
        "        # Forward propagation:\n",
        "        AL, caches = L_model_forward(data, parameters)\n",
        "        \n",
        "        # Compute cost.\n",
        "        # cost = compute_SSE(AL, label)\n",
        "        cost = compute_cost(AL, label)\n",
        "    \n",
        "        # Backward propagation.\n",
        "        grads = L_model_backward(AL, label, caches)\n",
        " \n",
        "        # Update parameters.\n",
        "        parameters = update_parameters(parameters, grads, learning_rate)\n",
        "                \n",
        "        # Print the cost every 100 training example\n",
        "        if print_cost and i % 100 == 0:\n",
        "            print (\"Cost after iteration %i: %f\" %(i, cost))\n",
        "            predictions = get_predictions(data, parameters)\n",
        "            costs.append(cost)\n",
        "            \n",
        "    # plot the cost\n",
        "    plt.plot(np.squeeze(costs))\n",
        "    plt.ylabel('cost')\n",
        "    plt.xlabel('iterations (per hundreds)')\n",
        "    plt.title(\"Learning rate =\" + str(learning_rate))\n",
        "    plt.show()\n",
        "    \n",
        "   "
      ],
      "execution_count":214,
      "outputs":[
        
      ],
      "metadata":{
        
      }
    },
    {
      "cell_type":"code",
      "source":[
        "layers_dims = [102, 150, 60, 4] \n",
        "L_layer_model(train_value1, train_label1.T, layers_dims, 0.5, 800, True)"
      ],
      "execution_count":216,
      "outputs":[
        {
          "name":"stdout",
          "text":[
            "Cost after iteration 0: 10.940632\n",
            "Accuracy: 0.39\n",
            "Cost after iteration 100: 9.074534\n",
            "Accuracy: 0.39\n",
            "Cost after iteration 200: 9.074534\n",
            "Accuracy: 0.4\n",
            "Cost after iteration 300: 9.074534\n",
            "Accuracy: 0.405\n",
            "Cost after iteration 400: 9.074534\n",
            "Accuracy: 0.395\n",
            "Cost after iteration 500: 9.074534\n",
            "Accuracy: 0.41000000000000003\n",
            "Cost after iteration 600: 9.074534\n",
            "Accuracy: 0.41000000000000003\n",
            "Cost after iteration 700: 9.074534\n",
            "Accuracy: 0.42000000000000004\n"
          ],
          "output_type":"stream"
        },
        {
          "data":{
            "image\/png":"[encoded data removed]"
          },
          "metadata":{
            "image\/png":{
              
            }
          },
          "output_type":"display_data"
        }
      ],
      "metadata":{
        
      }
    }
  ],
  "metadata":{
    
  },
  "nbformat":4,
  "nbformat_minor":0
}
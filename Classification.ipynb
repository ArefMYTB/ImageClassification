{
  "cells":[
    {
      "cell_type":"markdown",
      "source":[
        "# Packages"
      ],
      "attachments":{
        
      },
      "metadata":{
        
      }
    },
    {
      "cell_type":"code",
      "source":[
        "import numpy as np\n",
        "import matplotlib.pyplot as plt\n",
        "import math\n",
        "\n",
        "from Assets.Loading_Datasets import *"
      ],
      "execution_count":2,
      "outputs":[
        
      ],
      "metadata":{
        
      }
    },
    {
      "cell_type":"markdown",
      "source":[
        "# Dataset"
      ],
      "attachments":{
        
      },
      "metadata":{
        
      }
    },
    {
      "cell_type":"code",
      "source":[
        "train_set = []\n",
        "for n in range(len(train_set_features)):\n",
        "    image = np.zeros((102, 1))\n",
        "    for i in range(102):\n",
        "        image[i, 0] = train_set_features[n][i]\n",
        "\n",
        "    label_value = int(train_set_labels[n])\n",
        "    label = np.zeros((4, 1))\n",
        "    label[label_value, 0] = 1\n",
        "\n",
        "    train_set.append((image, label))"
      ],
      "execution_count":0,
      "outputs":[
        
      ],
      "metadata":{
        
      }
    },
    {
      "cell_type":"markdown",
      "source":[
        "# Network Class"
      ],
      "attachments":{
        
      },
      "metadata":{
        
      }
    },
    {
      "cell_type":"code",
      "source":[
        "class NeuralNetwork:\n",
        "\n",
        "    def __init__(self, layer_sizes, epoch_number, batch_size, learning_rate, method, use_momentum=False):\n",
        "        self.layer_sizes = layer_sizes\n",
        "        self.network_size = len(layer_sizes)\n",
        "        self.epoch_number = epoch_number\n",
        "        self.batch_size = batch_size\n",
        "        self.learning_rate = learning_rate\n",
        "        self.method = method\n",
        "        self.use_momentum = use_momentum\n",
        "        self.weights = {}\n",
        "        self.biases = {}\n",
        "        self.costs = []\n",
        "\n",
        "        self.momentum = 0.9\n",
        "        \n",
        "        for layer_number in range(1, self.network_size):\n",
        "            self.weights[layer_number] = np.random.randn(layer_sizes[layer_number], layer_sizes[layer_number - 1])\n",
        "            self.biases[layer_number] = np.zeros((layer_sizes[layer_number], 1))\n",
        "\n",
        "    def sigmoid(self, array, derive=False):\n",
        "        if derive:\n",
        "            return array * (1 - array)\n",
        "        return 1 \/ (1 + np.exp(-array))\n",
        "\n",
        "    def relu(self, array, derive=False):\n",
        "        if derive:\n",
        "            dx = np.ones_like(array)\n",
        "            dx[array <= 0] = 0\n",
        "            return dx\n",
        "        return np.maximum(0, array)\n",
        "\n",
        "    def softmax(self, array):\n",
        "        return np.exp(array) \/ sum(np.exp(array))\n",
        "\n",
        "    def train(self, data):\n",
        "        g_weights = {}\n",
        "        g_biases = {}\n",
        "        g_acts = {}\n",
        "        prev_g_weights = {}\n",
        "        prev_g_biases = {}\n",
        "        for layer_number in range(1, self.network_size):\n",
        "            prev_g_weights[layer_number] = np.zeros(\n",
        "                (self.layer_sizes[layer_number], self.layer_sizes[layer_number - 1]))\n",
        "            prev_g_biases[layer_number] = np.zeros((self.layer_sizes[layer_number], 1))\n",
        "        costs = []\n",
        "        batch_cost = 0\n",
        "        number_of_batches = math.ceil(len(data) \/ self.batch_size)\n",
        "        print(\"Training ...\")\n",
        "        for epoch_number in range(self.epoch_number):\n",
        "            np.random.shuffle(data)\n",
        "            for batch_number in range(number_of_batches):\n",
        "                for layer_number in range(1, self.network_size):\n",
        "                    g_weights[layer_number] = np.zeros(\n",
        "                        (self.layer_sizes[layer_number], self.layer_sizes[layer_number - 1]))\n",
        "                    g_biases[layer_number] = np.zeros((self.layer_sizes[layer_number], 1))\n",
        "                for i in range(self.batch_size):\n",
        "                    image, label = data[self.batch_size * batch_number + i]\n",
        "                    layers = {}\n",
        "                    for layer_number in range(1, self.network_size):\n",
        "                        layers[0] = image\n",
        "                        if layer_number == self.network_size - 1:\n",
        "                            layers[layer_number] = self.sigmoid(\n",
        "                                np.matmul(self.weights[layer_number], layers[layer_number - 1]) + self.biases[\n",
        "                                    layer_number])\n",
        "                        else:\n",
        "                            layers[layer_number] = self.sigmoid(\n",
        "                                np.matmul(self.weights[layer_number], layers[layer_number - 1]) + self.biases[\n",
        "                                    layer_number])\n",
        "                    batch_cost += ((layers[self.network_size - 1] - label) ** 2).mean(axis=None)\n",
        "                    g_acts[self.network_size - 1] = 2 * (layers[self.network_size - 1] - label)\n",
        "                    for layer_number in range(self.network_size - 1, 0, -1):\n",
        "                        if layer_number == self.network_size - 1:\n",
        "                            act_deriv = self.sigmoid(layers[layer_number], True)\n",
        "                        else:\n",
        "                            act_deriv = self.sigmoid(layers[layer_number], True)\n",
        "                        tmp = np.multiply(act_deriv, g_acts[layer_number])\n",
        "                        g_biases[layer_number] += tmp\n",
        "                        g_weights[layer_number] += np.matmul(tmp, layers[layer_number - 1].transpose())\n",
        "                        if layer_number > 1:\n",
        "                            g_acts[layer_number - 1] = np.matmul(self.weights[layer_number].transpose(), tmp)\n",
        "                for layer_number in range(1, self.network_size):\n",
        "                    if self.use_momentum:\n",
        "                        gw = self.momentum * prev_g_weights[layer_number] - (\n",
        "                                1.0 - self.momentum) * self.learning_rate * g_weights[\n",
        "                                 layer_number] \/ self.batch_size\n",
        "                        gb = self.momentum * prev_g_biases[layer_number] - (\n",
        "                                1.0 - self.momentum) * self.learning_rate * g_biases[layer_number] \/ self.batch_size\n",
        "                        prev_g_weights[layer_number] = gw\n",
        "                        prev_g_biases[layer_number] = gb\n",
        "                    else:\n",
        "                        gw = self.learning_rate * g_weights[layer_number] \/ self.batch_size\n",
        "                        gb = self.learning_rate * g_biases[layer_number] \/ self.batch_size\n",
        "\n",
        "                    self.weights[layer_number] += gw\n",
        "                    self.biases[layer_number] += gb\n",
        "\n",
        "            costs.append(batch_cost \/ self.batch_size)\n",
        "            batch_cost = 0\n",
        "        print(\"Trained!\")\n",
        "        plt.plot(costs)\n",
        "        plt.show()\n",
        "\n",
        "    def test(self, data):\n",
        "        corrects = 0\n",
        "        for i in range(len(data)):\n",
        "            image, label = data[i]\n",
        "            layers = {}\n",
        "            for layer_number in range(1, self.network_size):\n",
        "                layers[0] = image\n",
        "                if layer_number == self.network_size - 1:\n",
        "                    layers[layer_number] = self.sigmoid(\n",
        "                        np.matmul(self.weights[layer_number], layers[layer_number - 1]) + self.biases[layer_number])\n",
        "                else:\n",
        "                    layers[layer_number] = self.sigmoid(\n",
        "                        np.matmul(self.weights[layer_number], layers[layer_number - 1]) + self.biases[layer_number])\n",
        "            if layers[self.network_size - 1].argmax() == label.argmax():\n",
        "                corrects += 1\n",
        "        print(f\"Accuracy: {round(100 * corrects \/ len(data), 3)}%\")\n"
      ],
      "execution_count":null,
      "outputs":[
        
      ],
      "metadata":{
        
      }
    },
    {
      "cell_type":"markdown",
      "source":[
        "Create neural network and train the data"
      ],
      "attachments":{
        
      },
      "metadata":{
        
      }
    },
    {
      "cell_type":"code",
      "source":[
        "print(\"Loading Data ...\")\n",
        "nn = NeuralNetwork([102, 150, 60, 4], epoch_number=50, batch_size=10, learning_rate=0.1, method=\"sigmoid\", use_momentum=True)\n",
        "nn.train(data=train_set[:400])"
      ],
      "execution_count":0,
      "outputs":[
        
      ],
      "metadata":{
        
      }
    },
    {
      "cell_type":"markdown",
      "source":[
        "test the trained data"
      ],
      "attachments":{
        
      },
      "metadata":{
        
      }
    },
    {
      "cell_type":"code",
      "source":[
        "nn.test(train_set[:1600])"
      ],
      "execution_count":0,
      "outputs":[
        
      ],
      "metadata":{
        
      }
    },
    {
      "cell_type":"markdown",
      "source":[
        "get test data"
      ],
      "attachments":{
        
      },
      "metadata":{
        
      }
    },
    {
      "cell_type":"code",
      "source":[
        "test_set = []\n",
        "for n in range(len(test_set_features)):\n",
        "    image2 = np.zeros((102, 1))\n",
        "    for i in range(102):\n",
        "        image2[i, 0] = test_set_features[n][i]\n",
        "\n",
        "    label_value2 = int(test_set_labels[n])\n",
        "    label2 = np.zeros((4, 1))\n",
        "    label2[label_value2, 0] = 1\n",
        "\n",
        "    test_set.append((image2, label2))"
      ],
      "execution_count":0,
      "outputs":[
        
      ],
      "metadata":{
        
      }
    },
    {
      "cell_type":"code",
      "source":[
        "nn.test(test_set)"
      ],
      "execution_count":0,
      "outputs":[
        
      ],
      "metadata":{
        
      }
    },
    {
      "cell_type":"markdown",
      "source":[
        
      ],
      "attachments":{
        
      },
      "metadata":{
        
      }
    }
  ],
  "metadata":{
    
  },
  "nbformat":4,
  "nbformat_minor":0
}